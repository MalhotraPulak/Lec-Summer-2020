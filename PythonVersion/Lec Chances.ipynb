{
 "cells": [
  {
   "cell_type": "code",
   "execution_count": 1,
   "metadata": {
    "ExecuteTime": {
     "end_time": "2020-08-09T16:53:09.716779Z",
     "start_time": "2020-08-09T16:53:09.714632Z"
    }
   },
   "outputs": [],
   "source": [
    "## Calculates how likely are teams to make playoffs for LEC Summer 2020\n",
    "## Does not simulate tiebreaker"
   ]
  },
  {
   "cell_type": "code",
   "execution_count": 2,
   "metadata": {
    "ExecuteTime": {
     "end_time": "2020-08-09T16:53:09.977222Z",
     "start_time": "2020-08-09T16:53:09.719390Z"
    }
   },
   "outputs": [],
   "source": [
    "import requests\n",
    "from bs4 import BeautifulSoup"
   ]
  },
  {
   "cell_type": "code",
   "execution_count": 3,
   "metadata": {
    "ExecuteTime": {
     "end_time": "2020-08-09T16:53:10.921851Z",
     "start_time": "2020-08-09T16:53:09.979266Z"
    }
   },
   "outputs": [],
   "source": [
    "data = requests.get(\"https://lol.gamepedia.com/LEC/2020_Season/Summer_Season\")\n",
    "f = open(\"lec_site\", \"w+\")\n",
    "f.write(data.text)\n",
    "f.close()"
   ]
  },
  {
   "cell_type": "code",
   "execution_count": 4,
   "metadata": {
    "ExecuteTime": {
     "end_time": "2020-08-09T16:53:11.467797Z",
     "start_time": "2020-08-09T16:53:10.923771Z"
    }
   },
   "outputs": [],
   "source": [
    "soup = BeautifulSoup(data.text, 'html.parser')"
   ]
  },
  {
   "cell_type": "code",
   "execution_count": 5,
   "metadata": {
    "ExecuteTime": {
     "end_time": "2020-08-09T16:53:11.525657Z",
     "start_time": "2020-08-09T16:53:11.469367Z"
    }
   },
   "outputs": [],
   "source": [
    "rows = soup.find_all(\"tr\", class_=\"mdv-allweeks\")"
   ]
  },
  {
   "cell_type": "code",
   "execution_count": 6,
   "metadata": {
    "ExecuteTime": {
     "end_time": "2020-08-09T16:53:11.529875Z",
     "start_time": "2020-08-09T16:53:11.527748Z"
    }
   },
   "outputs": [],
   "source": [
    "# def getname(team1, team2):\n",
    "#    name = \"\"\n",
    "#    if(team1 < team2):\n",
    "#        name = team1 + team2\n",
    "#    else:\n",
    "#        name = team2 + team1\n",
    "#    return name"
   ]
  },
  {
   "cell_type": "code",
   "execution_count": 7,
   "metadata": {
    "ExecuteTime": {
     "end_time": "2020-08-09T16:53:11.540504Z",
     "start_time": "2020-08-09T16:53:11.534423Z"
    }
   },
   "outputs": [],
   "source": [
    "teams = ['G2', 'VIT', 'SK', 'RGE', 'FNC', 'MAD', 'OG', 'MSF', 'XL', 'S04']\n",
    "second_wins = {}\n",
    "wins = {}\n",
    "head2head = {}\n",
    "total = 0\n",
    "score = {}\n",
    "std = []\n",
    "for i in range(10):\n",
    "    std.append([])\n",
    "for team in teams:\n",
    "    second_wins[team] = 0\n",
    "    wins[team] = 0\n",
    "    score[team] = 0\n",
    "for team1 in teams:\n",
    "    for team2 in teams:\n",
    "        if team1 == team2:\n",
    "            continue\n",
    "        head2head[(team1, team2)] = 0\n",
    "        head2head[(team2, team1)] = 0\n",
    "\n",
    "upcoming = []"
   ]
  },
  {
   "cell_type": "code",
   "execution_count": 8,
   "metadata": {
    "ExecuteTime": {
     "end_time": "2020-08-09T16:53:11.568229Z",
     "start_time": "2020-08-09T16:53:11.543376Z"
    }
   },
   "outputs": [
    {
     "name": "stdout",
     "output_type": "stream",
     "text": [
      "MAD vs G2 ['0', '-', '1']\n",
      "0\n",
      "VIT vs S04 ['1', '-', '0']\n",
      "1\n",
      "OG vs SK ['0', '-', '1']\n",
      "0\n",
      "RGE vs XL ['1', '-', '0']\n",
      "1\n",
      "MSF vs FNC ['0', '-', '1']\n",
      "0\n",
      "S04 vs SK ['0', '-', '1']\n",
      "0\n",
      "RGE vs MSF ['1', '-', '0']\n",
      "1\n",
      "XL vs MAD ['0', '-', '1']\n",
      "0\n",
      "FNC vs VIT ['1', '-', '0']\n",
      "1\n",
      "G2 vs OG ['0', '-', '1']\n",
      "0\n",
      "SK vs MAD ['0', '-', '1']\n",
      "0\n",
      "S04 vs RGE ['0', '-', '1']\n",
      "0\n",
      "OG vs MSF ['0', '-', '1']\n",
      "0\n",
      "G2 vs VIT ['0', '-', '1']\n",
      "0\n",
      "FNC vs XL ['1', '-', '0']\n",
      "1\n",
      "VIT vs RGE ['0', '-', '1']\n",
      "0\n",
      "MSF vs SK ['0', '-', '1']\n",
      "0\n",
      "G2 vs S04 ['1', '-', '0']\n",
      "1\n",
      "OG vs XL ['1', '-', '0']\n",
      "1\n",
      "FNC vs MAD ['0', '-', '1']\n",
      "0\n",
      "SK vs XL ['0', '-', '1']\n",
      "0\n",
      "MSF vs S04 ['1', '-', '0']\n",
      "1\n",
      "VIT vs MAD ['0', '-', '1']\n",
      "0\n",
      "G2 vs RGE ['1', '-', '0']\n",
      "1\n",
      "FNC vs OG ['0', '-', '1']\n",
      "0\n",
      "S04 vs XL ['0', '-', '1']\n",
      "0\n",
      "VIT vs MSF ['0', '-', '1']\n",
      "0\n",
      "G2 vs SK ['0', '-', '1']\n",
      "0\n",
      "MAD vs OG ['1', '-', '0']\n",
      "1\n",
      "FNC vs RGE ['0', '-', '1']\n",
      "0\n",
      "VIT vs SK ['1', '-', '0']\n",
      "1\n",
      "MSF vs XL ['1', '-', '0']\n",
      "1\n",
      "OG vs S04 ['1', '-', '0']\n",
      "1\n",
      "MAD vs RGE ['1', '-', '0']\n",
      "1\n",
      "G2 vs FNC ['1', '-', '0']\n",
      "1\n",
      "VIT vs XL ['0', '-', '1']\n",
      "0\n",
      "MAD vs S04 ['1', '-', '0']\n",
      "1\n",
      "FNC vs SK ['1', '-', '0']\n",
      "1\n",
      "RGE vs OG ['1', '-', '0']\n",
      "1\n",
      "MSF vs G2 ['0', '-', '1']\n",
      "0\n",
      "RGE vs SK ['1', '-', '0']\n",
      "1\n",
      "VIT vs OG ['1', '-', '0']\n",
      "1\n",
      "FNC vs S04 ['0', '-', '1']\n",
      "0\n",
      "G2 vs XL ['0', '-', '1']\n",
      "0\n",
      "MSF vs MAD ['1', '-', '0']\n",
      "1\n",
      "VIT vs SK ['0', '-', '1']\n",
      "0\n",
      "RGE vs S04 ['1', '-', '0']\n",
      "1\n",
      "MSF vs FNC ['0', '-', '1']\n",
      "0\n",
      "MAD vs XL ['1', '-', '0']\n",
      "1\n",
      "G2 vs OG ['0', '-', '1']\n",
      "0\n",
      "SK vs S04 ['1', '-', '0']\n",
      "1\n",
      "RGE vs XL ['1', '-', '0']\n",
      "1\n",
      "MSF vs OG ['0', '-', '1']\n",
      "0\n",
      "VIT vs FNC ['0', '-', '1']\n",
      "0\n",
      "G2 vs MAD ['0', '-', '1']\n",
      "0\n",
      "SK vs XL ['0', '-', '1']\n",
      "0\n",
      "VIT vs OG ['1', '-', '0']\n",
      "1\n",
      "G2 vs S04 ['0', '-', '1']\n",
      "0\n",
      "MSF vs RGE ['0', '-', '1']\n",
      "0\n",
      "FNC vs MAD ['0', '-', '1']\n",
      "0\n",
      "VIT vs XL ['0', '-', '1']\n",
      "0\n",
      "MSF vs S04 ['0', '-', '1']\n",
      "0\n",
      "MAD vs SK ['0', '-', '1']\n",
      "0\n",
      "FNC vs OG ['1', '-', '0']\n",
      "1\n",
      "G2 vs RGE ['1', '-', '0']\n",
      "1\n",
      "S04 vs XL ['1', '-', '0']\n",
      "1\n",
      "MSF vs SK ['1', '-', '0']\n",
      "1\n",
      "MAD vs OG ['1', '-', '0']\n",
      "1\n",
      "VIT vs G2 ['0', '-', '1']\n",
      "0\n",
      "FNC vs RGE ['0', '-', '1']\n",
      "0\n",
      "OG vs S04 ['0', '-', '1']\n",
      "0\n",
      "MSF vs XL ['0', '-', '1']\n",
      "0\n",
      "RGE vs SK ['0', '-', '1']\n",
      "0\n",
      "VIT vs MAD ['1', '-', '0']\n",
      "1\n",
      "G2 vs FNC ['1', '-', '0']\n",
      "1\n",
      "VIT vs RGE ['1', '-', '0']\n",
      "1\n",
      "OG vs XL ['0', '-', '1']\n",
      "0\n",
      "FNC vs S04 ['0', '-', '1']\n",
      "0\n",
      "MSF vs MAD ['0', '-', '1']\n",
      "0\n",
      "G2 vs SK ['1', '-', '0']\n",
      "1\n",
      "VIT vs S04 ['0', '-', '1']\n",
      "0\n",
      "OG vs SK ['0', '-', '1']\n",
      "0\n",
      "FNC vs XL ['1', '-', '0']\n",
      "1\n",
      "MSF vs G2 ['0', '-', '1']\n",
      "0\n",
      "MAD vs RGE ['0', '-', '1']\n",
      "0\n",
      "VIT vs MSF ['0', '-', '1']\n",
      "0\n",
      "MAD vs S04 ['0', '-', '1']\n",
      "0\n",
      "RGE vs OG ['TBD']\n",
      "TBD\n",
      "G2 vs XL ['TBD']\n",
      "TBD\n",
      "FNC vs SK ['TBD']\n",
      "TBD\n"
     ]
    }
   ],
   "source": [
    "match = 0\n",
    "\n",
    "for row in rows:\n",
    "    try:\n",
    "        teams = row.find_all(\"td\")     \n",
    "        team1 = teams[0].text[2: ]\n",
    "        team2 = teams[1].text[2: ]\n",
    "        print(team1, \"vs\", team2, teams[2].text.split(\" \"))\n",
    "        winner = \"\"\n",
    "        print(teams[2].text.split(\" \")[0])\n",
    "        if(teams[2].text.split(\" \")[0] == '1'):\n",
    "            winner = team1\n",
    "            head2head[(team1, team2)] += 1\n",
    "            head2head[(team2, team1)] -= 1\n",
    "        elif (teams[2].text.split(\" \")[0] == '0'):\n",
    "            winner = team2\n",
    "            head2head[(team2, team1)] += 1\n",
    "            head2head[(team1, team2)] -= 1\n",
    "        else:\n",
    "            upcoming.append([team1, team2])\n",
    "        wins[winner] += 1\n",
    "        match += 1\n",
    "        if match > 45:\n",
    "            second_wins[winner] = second_wins[winner] + 1   \n",
    "    except:\n",
    "        continue\n",
    "        "
   ]
  },
  {
   "cell_type": "code",
   "execution_count": 9,
   "metadata": {
    "ExecuteTime": {
     "end_time": "2020-08-09T16:53:11.572666Z",
     "start_time": "2020-08-09T16:53:11.570050Z"
    }
   },
   "outputs": [
    {
     "name": "stdout",
     "output_type": "stream",
     "text": [
      "{'G2': 10, 'VIT': 7, 'SK': 9, 'RGE': 12, 'FNC': 8, 'MAD': 12, 'OG': 6, 'MSF': 7, 'XL': 8, 'S04': 8} \n",
      " {'G2': 5, 'VIT': 3, 'SK': 5, 'RGE': 5, 'FNC': 4, 'MAD': 5, 'OG': 2, 'MSF': 2, 'XL': 4, 'S04': 7} \n",
      " {('G2', 'VIT'): 0, ('VIT', 'G2'): 0, ('G2', 'SK'): 0, ('SK', 'G2'): 0, ('G2', 'RGE'): 2, ('RGE', 'G2'): -2, ('G2', 'FNC'): 2, ('FNC', 'G2'): -2, ('G2', 'MAD'): 0, ('MAD', 'G2'): 0, ('G2', 'OG'): -2, ('OG', 'G2'): 2, ('G2', 'MSF'): 2, ('MSF', 'G2'): -2, ('G2', 'XL'): -1, ('XL', 'G2'): 1, ('G2', 'S04'): 0, ('S04', 'G2'): 0, ('VIT', 'SK'): 0, ('SK', 'VIT'): 0, ('VIT', 'RGE'): 0, ('RGE', 'VIT'): 0, ('VIT', 'FNC'): -2, ('FNC', 'VIT'): 2, ('VIT', 'MAD'): 0, ('MAD', 'VIT'): 0, ('VIT', 'OG'): 2, ('OG', 'VIT'): -2, ('VIT', 'MSF'): -2, ('MSF', 'VIT'): 2, ('VIT', 'XL'): -2, ('XL', 'VIT'): 2, ('VIT', 'S04'): 0, ('S04', 'VIT'): 0, ('SK', 'RGE'): 0, ('RGE', 'SK'): 0, ('SK', 'FNC'): -1, ('FNC', 'SK'): 1, ('SK', 'MAD'): 0, ('MAD', 'SK'): 0, ('SK', 'OG'): 2, ('OG', 'SK'): -2, ('SK', 'MSF'): 0, ('MSF', 'SK'): 0, ('SK', 'XL'): -2, ('XL', 'SK'): 2, ('SK', 'S04'): 2, ('S04', 'SK'): -2, ('RGE', 'FNC'): 2, ('FNC', 'RGE'): -2, ('RGE', 'MAD'): 0, ('MAD', 'RGE'): 0, ('RGE', 'OG'): 1, ('OG', 'RGE'): -1, ('RGE', 'MSF'): 2, ('MSF', 'RGE'): -2, ('RGE', 'XL'): 2, ('XL', 'RGE'): -2, ('RGE', 'S04'): 2, ('S04', 'RGE'): -2, ('FNC', 'MAD'): -2, ('MAD', 'FNC'): 2, ('FNC', 'OG'): 0, ('OG', 'FNC'): 0, ('FNC', 'MSF'): 2, ('MSF', 'FNC'): -2, ('FNC', 'XL'): 2, ('XL', 'FNC'): -2, ('FNC', 'S04'): -2, ('S04', 'FNC'): 2, ('MAD', 'OG'): 2, ('OG', 'MAD'): -2, ('MAD', 'MSF'): 0, ('MSF', 'MAD'): 0, ('MAD', 'XL'): 2, ('XL', 'MAD'): -2, ('MAD', 'S04'): 0, ('S04', 'MAD'): 0, ('OG', 'MSF'): 0, ('MSF', 'OG'): 0, ('OG', 'XL'): 0, ('XL', 'OG'): 0, ('OG', 'S04'): 0, ('S04', 'OG'): 0, ('MSF', 'XL'): 0, ('XL', 'MSF'): 0, ('MSF', 'S04'): 0, ('S04', 'MSF'): 0, ('XL', 'S04'): 0, ('S04', 'XL'): 0}\n"
     ]
    }
   ],
   "source": [
    "print(wins, '\\n', second_wins, '\\n', head2head)"
   ]
  },
  {
   "cell_type": "code",
   "execution_count": 10,
   "metadata": {
    "ExecuteTime": {
     "end_time": "2020-08-09T16:53:11.582566Z",
     "start_time": "2020-08-09T16:53:11.574212Z"
    }
   },
   "outputs": [
    {
     "data": {
      "text/plain": [
       "[['RGE', 'OG'], ['G2', 'XL'], ['FNC', 'SK']]"
      ]
     },
     "execution_count": 10,
     "metadata": {},
     "output_type": "execute_result"
    }
   ],
   "source": [
    "upcoming"
   ]
  },
  {
   "cell_type": "code",
   "execution_count": 11,
   "metadata": {
    "ExecuteTime": {
     "end_time": "2020-08-09T16:53:11.586382Z",
     "start_time": "2020-08-09T16:53:11.584145Z"
    }
   },
   "outputs": [],
   "source": [
    "draw = False"
   ]
  },
  {
   "cell_type": "code",
   "execution_count": 12,
   "metadata": {
    "ExecuteTime": {
     "end_time": "2020-08-09T16:53:11.597602Z",
     "start_time": "2020-08-09T16:53:11.588065Z"
    }
   },
   "outputs": [],
   "source": [
    "def tie_breaker(teams, second_wins, head2head):\n",
    "    # print(teams)\n",
    "    global draw\n",
    "    if(len(teams) == 2):\n",
    "        team1 = teams[0]\n",
    "        team2 = teams[1]\n",
    "        if(head2head[(team1, team2)] == 0):\n",
    "            # head2head is same\n",
    "            if(second_wins[team1] == second_wins[team2]):\n",
    "                # play tiebreaker\n",
    "                print(\" 2 way tie \", team1, team2)\n",
    "                std[0].append(team2)\n",
    "                std[1].append(team1)\n",
    "                return [team1 , team2]\n",
    "            else:\n",
    "                if second_wins[team1] > second_wins[team2]:\n",
    "                    return [team1, team2]\n",
    "                return [team2, team1]\n",
    "        else:\n",
    "            if head2head[(team1, team2)] > 0:\n",
    "                return [team1 , team2]\n",
    "            return [team2, team1]\n",
    "    else:\n",
    "        if(len(teams) >= 3):\n",
    "            for team in teams:\n",
    "                other = []\n",
    "                for other_team in teams:\n",
    "                    if team != other_team:\n",
    "                        other.append(other_team)\n",
    "                superior = True\n",
    "                for other_team in other:\n",
    "                    if head2head[(team, other_team)]< 0:\n",
    "                        superior = False\n",
    "                if superior:\n",
    "                    st = [team] + tie_breaker(other, second_wins, head2head)\n",
    "                    return st\n",
    "        print(len(teams) ,\" way tie \", teams)\n",
    "        return teams\n",
    "                "
   ]
  },
  {
   "cell_type": "code",
   "execution_count": 13,
   "metadata": {
    "ExecuteTime": {
     "end_time": "2020-08-09T16:53:11.605901Z",
     "start_time": "2020-08-09T16:53:11.599524Z"
    }
   },
   "outputs": [],
   "source": [
    "def fix_tie(wins, second_wins, head2head):\n",
    "    #print(wins)\n",
    "    global score, draw\n",
    "    d = {}\n",
    "    for team in wins:\n",
    "        no_wins = wins[team]\n",
    "        if no_wins not in d:\n",
    "            d[no_wins] = [team]\n",
    "        else:\n",
    "            d[no_wins].append(team)\n",
    "    #print(d)\n",
    "    final_standings = []\n",
    "    for wins in d:\n",
    "        teams = d[wins]\n",
    "        if len(teams) == 1:\n",
    "            final_standings.append(teams[0])\n",
    "        else:\n",
    "            order = tie_breaker(teams, second_wins, head2head)\n",
    "            final_standings += order\n",
    "    print(final_standings)\n",
    "    for i in range(6):\n",
    "        score[final_standings[i]] += 1\n",
    "    for i in range(10):\n",
    "        std[i].append(final_standings[i])\n",
    "        \n",
    "    \n",
    "        "
   ]
  },
  {
   "cell_type": "code",
   "execution_count": 14,
   "metadata": {
    "ExecuteTime": {
     "end_time": "2020-08-09T16:53:11.617698Z",
     "start_time": "2020-08-09T16:53:11.608442Z"
    }
   },
   "outputs": [],
   "source": [
    "def play(gameNo, wins, second_wins, head2head):\n",
    "    global total\n",
    "    if(gameNo > len(upcoming)- 1):\n",
    "        total += 1\n",
    "        final_wins = {k: v for k, v in sorted(wins.items(), key=lambda item: -item[1])}\n",
    "        fix_tie(final_wins, second_wins, head2head)\n",
    "        return\n",
    "    win1 = wins.copy();\n",
    "    win2 = wins.copy();\n",
    "    second_wins1 = second_wins.copy();\n",
    "    second_wins2 = second_wins.copy();\n",
    "    head2head1 = head2head.copy();\n",
    "    head2head2 = head2head.copy();\n",
    "    team1 = upcoming[gameNo][0];\n",
    "    team2 = upcoming[gameNo][1];\n",
    "    # team1 wins \n",
    "    win1[team1] += 1\n",
    "    second_wins1[team1] += 1\n",
    "    head2head1[(team1, team2)] += 1\n",
    "    head2head1[(team2, team1)] -= 1\n",
    "    play(gameNo + 1, win1, second_wins1, head2head1)\n",
    "    \n",
    "    # team2 wins\n",
    "    win2[team2] += 1\n",
    "    second_wins2[team2] += 1\n",
    "    head2head2[(team1, team2)] -= 1\n",
    "    head2head2[(team2, team1)] += 1\n",
    "    play(gameNo + 1, win2, second_wins2, head2head2)\n",
    "    \n",
    "    \n",
    "    "
   ]
  },
  {
   "cell_type": "code",
   "execution_count": 15,
   "metadata": {
    "ExecuteTime": {
     "end_time": "2020-08-09T16:53:11.623071Z",
     "start_time": "2020-08-09T16:53:11.619849Z"
    }
   },
   "outputs": [
    {
     "name": "stdout",
     "output_type": "stream",
     "text": [
      "['RGE', 'MAD', 'G2', 'FNC', 'SK', 'S04', 'XL', 'MSF', 'VIT', 'OG']\n",
      "['RGE', 'MAD', 'G2', 'SK', 'S04', 'FNC', 'XL', 'MSF', 'VIT', 'OG']\n",
      "['RGE', 'MAD', 'G2', 'FNC', 'XL', 'SK', 'S04', 'MSF', 'VIT', 'OG']\n",
      "['RGE', 'MAD', 'SK', 'G2', 'XL', 'S04', 'FNC', 'MSF', 'VIT', 'OG']\n",
      " 2 way tie  RGE MAD\n",
      "['RGE', 'MAD', 'G2', 'FNC', 'SK', 'S04', 'XL', 'MSF', 'VIT', 'OG']\n",
      " 2 way tie  RGE MAD\n",
      "['RGE', 'MAD', 'G2', 'SK', 'S04', 'FNC', 'XL', 'MSF', 'VIT', 'OG']\n",
      " 2 way tie  RGE MAD\n",
      "['RGE', 'MAD', 'G2', 'FNC', 'XL', 'SK', 'S04', 'MSF', 'VIT', 'OG']\n",
      " 2 way tie  RGE MAD\n",
      "['RGE', 'MAD', 'SK', 'G2', 'XL', 'S04', 'FNC', 'MSF', 'VIT', 'OG']\n"
     ]
    }
   ],
   "source": [
    "play(0, wins, second_wins, head2head)"
   ]
  },
  {
   "cell_type": "code",
   "execution_count": 16,
   "metadata": {
    "ExecuteTime": {
     "end_time": "2020-08-09T16:53:11.627562Z",
     "start_time": "2020-08-09T16:53:11.624498Z"
    }
   },
   "outputs": [
    {
     "data": {
      "text/plain": [
       "8"
      ]
     },
     "execution_count": 16,
     "metadata": {},
     "output_type": "execute_result"
    }
   ],
   "source": [
    "total"
   ]
  },
  {
   "cell_type": "code",
   "execution_count": 17,
   "metadata": {
    "ExecuteTime": {
     "end_time": "2020-08-09T16:53:11.634730Z",
     "start_time": "2020-08-09T16:53:11.630038Z"
    }
   },
   "outputs": [
    {
     "name": "stdout",
     "output_type": "stream",
     "text": [
      "G2 8 1.0\n",
      "SK 8 1.0\n",
      "RGE 8 1.0\n",
      "MAD 8 1.0\n",
      "FNC 6 0.75\n",
      "S04 6 0.75\n",
      "XL 4 0.5\n",
      "VIT 0 0.0\n",
      "OG 0 0.0\n",
      "MSF 0 0.0\n"
     ]
    }
   ],
   "source": [
    "score2  = {k: v for k, v in sorted(score.items(), key=lambda item: -item[1])}\n",
    "for team in score2:\n",
    "    print(team, score2[team], score2[team]/total)"
   ]
  },
  {
   "cell_type": "code",
   "execution_count": 18,
   "metadata": {
    "ExecuteTime": {
     "end_time": "2020-08-09T16:53:11.647825Z",
     "start_time": "2020-08-09T16:53:11.636398Z"
    }
   },
   "outputs": [
    {
     "name": "stdout",
     "output_type": "stream",
     "text": [
      "1 :\n",
      "G2 0.0  VIT 0.0  SK 0.0  RGE 1.0  FNC 0.0  MAD 0.5  OG 0.0  MSF 0.0  XL 0.0  S04 0.0  \n",
      "2 :\n",
      "G2 0.0  VIT 0.0  SK 0.0  RGE 0.5  FNC 0.0  MAD 1.0  OG 0.0  MSF 0.0  XL 0.0  S04 0.0  \n",
      "3 :\n",
      "G2 0.75  VIT 0.0  SK 0.25  RGE 0.0  FNC 0.0  MAD 0.0  OG 0.0  MSF 0.0  XL 0.0  S04 0.0  \n",
      "4 :\n",
      "G2 0.25  VIT 0.0  SK 0.25  RGE 0.0  FNC 0.5  MAD 0.0  OG 0.0  MSF 0.0  XL 0.0  S04 0.0  \n",
      "5 :\n",
      "G2 0.0  VIT 0.0  SK 0.25  RGE 0.0  FNC 0.0  MAD 0.0  OG 0.0  MSF 0.0  XL 0.5  S04 0.25  \n",
      "6 :\n",
      "G2 0.0  VIT 0.0  SK 0.25  RGE 0.0  FNC 0.25  MAD 0.0  OG 0.0  MSF 0.0  XL 0.0  S04 0.5  \n",
      "7 :\n",
      "G2 0.0  VIT 0.0  SK 0.0  RGE 0.0  FNC 0.25  MAD 0.0  OG 0.0  MSF 0.0  XL 0.5  S04 0.25  \n",
      "8 :\n",
      "G2 0.0  VIT 0.0  SK 0.0  RGE 0.0  FNC 0.0  MAD 0.0  OG 0.0  MSF 1.0  XL 0.0  S04 0.0  \n",
      "9 :\n",
      "G2 0.0  VIT 1.0  SK 0.0  RGE 0.0  FNC 0.0  MAD 0.0  OG 0.0  MSF 0.0  XL 0.0  S04 0.0  \n",
      "10 :\n",
      "G2 0.0  VIT 0.0  SK 0.0  RGE 0.0  FNC 0.0  MAD 0.0  OG 1.0  MSF 0.0  XL 0.0  S04 0.0  \n"
     ]
    }
   ],
   "source": [
    "teams = ['G2', 'VIT', 'SK', 'RGE', 'FNC', 'MAD', 'OG', 'MSF', 'XL', 'S04']\n",
    "for i in range(10):\n",
    "    print(str(i + 1) + \" :\")\n",
    "    for team in teams:\n",
    "        print(team, (1.0 * std[i].count(team))/total,\" \",  end='')\n",
    "    print()"
   ]
  },
  {
   "cell_type": "code",
   "execution_count": null,
   "metadata": {},
   "outputs": [],
   "source": []
  }
 ],
 "metadata": {
  "kernelspec": {
   "display_name": "Python 3",
   "language": "python",
   "name": "python3"
  },
  "language_info": {
   "codemirror_mode": {
    "name": "ipython",
    "version": 3
   },
   "file_extension": ".py",
   "mimetype": "text/x-python",
   "name": "python",
   "nbconvert_exporter": "python",
   "pygments_lexer": "ipython3",
   "version": "3.7.7"
  }
 },
 "nbformat": 4,
 "nbformat_minor": 4
}
