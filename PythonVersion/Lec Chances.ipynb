{
 "cells": [
  {
   "cell_type": "code",
   "execution_count": 376,
   "metadata": {
    "ExecuteTime": {
     "end_time": "2020-08-09T07:33:33.124260Z",
     "start_time": "2020-08-09T07:33:33.122410Z"
    }
   },
   "outputs": [],
   "source": [
    "## Calculates how likely are teams to make playoffs for LEC Summer 2020\n",
    "## Does not simulate tiebreaker"
   ]
  },
  {
   "cell_type": "code",
   "execution_count": 307,
   "metadata": {
    "ExecuteTime": {
     "end_time": "2020-08-09T06:59:26.946137Z",
     "start_time": "2020-08-09T06:59:26.943931Z"
    }
   },
   "outputs": [],
   "source": [
    "import requests\n",
    "from bs4 import BeautifulSoup"
   ]
  },
  {
   "cell_type": "code",
   "execution_count": 308,
   "metadata": {
    "ExecuteTime": {
     "end_time": "2020-08-09T06:59:28.455229Z",
     "start_time": "2020-08-09T06:59:27.562690Z"
    }
   },
   "outputs": [],
   "source": [
    "data = requests.get(\"https://lol.gamepedia.com/LEC/2020_Season/Summer_Season\")\n",
    "f = open(\"lec_site\", \"w+\")\n",
    "f.write(data.text)\n",
    "f.close()"
   ]
  },
  {
   "cell_type": "code",
   "execution_count": 310,
   "metadata": {
    "ExecuteTime": {
     "end_time": "2020-08-09T06:59:31.551840Z",
     "start_time": "2020-08-09T06:59:31.013890Z"
    }
   },
   "outputs": [],
   "source": [
    "soup = BeautifulSoup(data.text, 'html.parser')"
   ]
  },
  {
   "cell_type": "code",
   "execution_count": 311,
   "metadata": {
    "ExecuteTime": {
     "end_time": "2020-08-09T06:59:31.794453Z",
     "start_time": "2020-08-09T06:59:31.738941Z"
    }
   },
   "outputs": [],
   "source": [
    "rows = soup.find_all(\"tr\", class_=\"mdv-allweeks\")"
   ]
  },
  {
   "cell_type": "code",
   "execution_count": 312,
   "metadata": {
    "ExecuteTime": {
     "end_time": "2020-08-09T06:59:32.523158Z",
     "start_time": "2020-08-09T06:59:32.521347Z"
    }
   },
   "outputs": [],
   "source": [
    "# def getname(team1, team2):\n",
    "#    name = \"\"\n",
    "#    if(team1 < team2):\n",
    "#        name = team1 + team2\n",
    "#    else:\n",
    "#        name = team2 + team1\n",
    "#    return name"
   ]
  },
  {
   "cell_type": "code",
   "execution_count": 363,
   "metadata": {
    "ExecuteTime": {
     "end_time": "2020-08-09T07:27:38.833642Z",
     "start_time": "2020-08-09T07:27:38.828589Z"
    }
   },
   "outputs": [],
   "source": [
    "teams = ['G2', 'VIT', 'SK', 'RGE', 'FNC', 'MAD', 'OG', 'MSF', 'XL', 'S04']\n",
    "second_wins = {}\n",
    "wins = {}\n",
    "head2head = {}\n",
    "total = 0\n",
    "score = {}\n",
    "std = []\n",
    "for i in range(10):\n",
    "    std.append([])\n",
    "for team in teams:\n",
    "    second_wins[team] = 0\n",
    "    wins[team] = 0\n",
    "    score[team] = 0\n",
    "for team1 in teams:\n",
    "    for team2 in teams:\n",
    "        if team1 == team2:\n",
    "            continue\n",
    "        head2head[(team1, team2)] = 0\n",
    "        head2head[(team2, team1)] = 0\n",
    "\n",
    "upcoming = []"
   ]
  },
  {
   "cell_type": "code",
   "execution_count": 364,
   "metadata": {
    "ExecuteTime": {
     "end_time": "2020-08-09T07:27:39.145232Z",
     "start_time": "2020-08-09T07:27:39.133987Z"
    }
   },
   "outputs": [],
   "source": [
    "match = 0\n",
    "\n",
    "for row in rows:\n",
    "    try:\n",
    "        teams = row.find_all(\"td\")\n",
    "        # print(teams[0].text, \"vs\", teams[1].text, teams[2].text.split(\" \"))\n",
    "        team1 = teams[0].text[2: ]\n",
    "        team2 = teams[1].text[2: ]\n",
    "        winner = \"\"\n",
    "        teamName = getname(team1, team2)\n",
    "        if(teams[2].text.split(\" \")[0] == '1'):\n",
    "            winner = team1\n",
    "            head2head[(team1, team2)] += 1\n",
    "            head2head[(team2, team1)] -= 1\n",
    "        elif (teams[2].text.split(\" \")[0] == '0'):\n",
    "            winner = team2\n",
    "            head2head[(team2, team1)] += 1\n",
    "            head2head[(team1, team2)] -= 1\n",
    "        else:\n",
    "            upcoming.append([team1, team2])\n",
    "        wins[winner] += 1\n",
    "        match += 1\n",
    "        if match > 45:\n",
    "            second_wins[winner] = second_wins[winner] + 1   \n",
    "    except:\n",
    "        continue\n",
    "        "
   ]
  },
  {
   "cell_type": "code",
   "execution_count": 365,
   "metadata": {
    "ExecuteTime": {
     "end_time": "2020-08-09T07:27:39.475502Z",
     "start_time": "2020-08-09T07:27:39.472388Z"
    }
   },
   "outputs": [
    {
     "name": "stdout",
     "output_type": "stream",
     "text": [
      "{'G2': 10, 'VIT': 7, 'SK': 9, 'RGE': 12, 'FNC': 8, 'MAD': 12, 'OG': 6, 'MSF': 6, 'XL': 8, 'S04': 7} \n",
      " {'G2': 5, 'VIT': 3, 'SK': 5, 'RGE': 5, 'FNC': 4, 'MAD': 5, 'OG': 2, 'MSF': 1, 'XL': 4, 'S04': 6} \n",
      " {('G2', 'VIT'): 0, ('VIT', 'G2'): 0, ('G2', 'SK'): 0, ('SK', 'G2'): 0, ('G2', 'RGE'): 2, ('RGE', 'G2'): -2, ('G2', 'FNC'): 2, ('FNC', 'G2'): -2, ('G2', 'MAD'): 0, ('MAD', 'G2'): 0, ('G2', 'OG'): -2, ('OG', 'G2'): 2, ('G2', 'MSF'): 2, ('MSF', 'G2'): -2, ('G2', 'XL'): -1, ('XL', 'G2'): 1, ('G2', 'S04'): 0, ('S04', 'G2'): 0, ('VIT', 'SK'): 0, ('SK', 'VIT'): 0, ('VIT', 'RGE'): 0, ('RGE', 'VIT'): 0, ('VIT', 'FNC'): -2, ('FNC', 'VIT'): 2, ('VIT', 'MAD'): 0, ('MAD', 'VIT'): 0, ('VIT', 'OG'): 2, ('OG', 'VIT'): -2, ('VIT', 'MSF'): -1, ('MSF', 'VIT'): 1, ('VIT', 'XL'): -2, ('XL', 'VIT'): 2, ('VIT', 'S04'): 0, ('S04', 'VIT'): 0, ('SK', 'RGE'): 0, ('RGE', 'SK'): 0, ('SK', 'FNC'): -1, ('FNC', 'SK'): 1, ('SK', 'MAD'): 0, ('MAD', 'SK'): 0, ('SK', 'OG'): 2, ('OG', 'SK'): -2, ('SK', 'MSF'): 0, ('MSF', 'SK'): 0, ('SK', 'XL'): -2, ('XL', 'SK'): 2, ('SK', 'S04'): 2, ('S04', 'SK'): -2, ('RGE', 'FNC'): 2, ('FNC', 'RGE'): -2, ('RGE', 'MAD'): 0, ('MAD', 'RGE'): 0, ('RGE', 'OG'): 1, ('OG', 'RGE'): -1, ('RGE', 'MSF'): 2, ('MSF', 'RGE'): -2, ('RGE', 'XL'): 2, ('XL', 'RGE'): -2, ('RGE', 'S04'): 2, ('S04', 'RGE'): -2, ('FNC', 'MAD'): -2, ('MAD', 'FNC'): 2, ('FNC', 'OG'): 0, ('OG', 'FNC'): 0, ('FNC', 'MSF'): 2, ('MSF', 'FNC'): -2, ('FNC', 'XL'): 2, ('XL', 'FNC'): -2, ('FNC', 'S04'): -2, ('S04', 'FNC'): 2, ('MAD', 'OG'): 2, ('OG', 'MAD'): -2, ('MAD', 'MSF'): 0, ('MSF', 'MAD'): 0, ('MAD', 'XL'): 2, ('XL', 'MAD'): -2, ('MAD', 'S04'): 1, ('S04', 'MAD'): -1, ('OG', 'MSF'): 0, ('MSF', 'OG'): 0, ('OG', 'XL'): 0, ('XL', 'OG'): 0, ('OG', 'S04'): 0, ('S04', 'OG'): 0, ('MSF', 'XL'): 0, ('XL', 'MSF'): 0, ('MSF', 'S04'): 0, ('S04', 'MSF'): 0, ('XL', 'S04'): 0, ('S04', 'XL'): 0}\n"
     ]
    }
   ],
   "source": [
    "print(wins, '\\n', second_wins, '\\n', head2head)"
   ]
  },
  {
   "cell_type": "code",
   "execution_count": 366,
   "metadata": {
    "ExecuteTime": {
     "end_time": "2020-08-09T07:27:39.823983Z",
     "start_time": "2020-08-09T07:27:39.820695Z"
    }
   },
   "outputs": [
    {
     "data": {
      "text/plain": [
       "[['VIT', 'MSF'], ['MAD', 'S04'], ['RGE', 'OG'], ['G2', 'XL'], ['FNC', 'SK']]"
      ]
     },
     "execution_count": 366,
     "metadata": {},
     "output_type": "execute_result"
    }
   ],
   "source": [
    "upcoming"
   ]
  },
  {
   "cell_type": "code",
   "execution_count": 367,
   "metadata": {
    "ExecuteTime": {
     "end_time": "2020-08-09T07:27:40.234523Z",
     "start_time": "2020-08-09T07:27:40.232104Z"
    }
   },
   "outputs": [],
   "source": [
    "draw = False"
   ]
  },
  {
   "cell_type": "code",
   "execution_count": 368,
   "metadata": {
    "ExecuteTime": {
     "end_time": "2020-08-09T07:27:40.708103Z",
     "start_time": "2020-08-09T07:27:40.699423Z"
    }
   },
   "outputs": [],
   "source": [
    "def tie_breaker(teams, second_wins, head2head):\n",
    "    # print(teams)\n",
    "    global draw\n",
    "    if(len(teams) == 2):\n",
    "        team1 = teams[0]\n",
    "        team2 = teams[1]\n",
    "        if(head2head[(team1, team2)] == 0):\n",
    "            # head2head is same\n",
    "            if(second_wins[team1] == second_wins[team2]):\n",
    "                # play tiebreaker\n",
    "                print(\" 2 way tie \", team1, team2)\n",
    "                std[0].append(team2)\n",
    "                std[1].append(team1)\n",
    "                return [team1 , team2]\n",
    "            else:\n",
    "                if second_wins[team1] > second_wins[team2]:\n",
    "                    return [team1, team2]\n",
    "                return [team2, team1]\n",
    "        else:\n",
    "            if head2head[(team1, team2)] > 0:\n",
    "                return [team1 , team2]\n",
    "            return [team2, team1]\n",
    "    else:\n",
    "        if(len(teams) >= 3):\n",
    "            for team in teams:\n",
    "                other = []\n",
    "                for other_team in teams:\n",
    "                    if team != other_team:\n",
    "                        other.append(other_team)\n",
    "                superior = True\n",
    "                for other_team in other:\n",
    "                    if head2head[(team, other_team)]< 0:\n",
    "                        superior = False\n",
    "                if superior:\n",
    "                    st = [team] + tie_breaker(other, second_wins, head2head)\n",
    "                    return st\n",
    "        print(len(teams) ,\" way tie \", teams)\n",
    "        return teams\n",
    "                "
   ]
  },
  {
   "cell_type": "code",
   "execution_count": 369,
   "metadata": {
    "ExecuteTime": {
     "end_time": "2020-08-09T07:27:41.242705Z",
     "start_time": "2020-08-09T07:27:41.236573Z"
    }
   },
   "outputs": [],
   "source": [
    "def fix_tie(wins, second_wins, head2head):\n",
    "    #print(wins)\n",
    "    global score, draw\n",
    "    d = {}\n",
    "    for team in wins:\n",
    "        no_wins = wins[team]\n",
    "        if no_wins not in d:\n",
    "            d[no_wins] = [team]\n",
    "        else:\n",
    "            d[no_wins].append(team)\n",
    "    #print(d)\n",
    "    final_standings = []\n",
    "    for wins in d:\n",
    "        teams = d[wins]\n",
    "        if len(teams) == 1:\n",
    "            final_standings.append(teams[0])\n",
    "        else:\n",
    "            order = tie_breaker(teams, second_wins, head2head)\n",
    "            final_standings += order\n",
    "    print(final_standings)\n",
    "    for i in range(6):\n",
    "        score[final_standings[i]] += 1\n",
    "    for i in range(10):\n",
    "        std[i].append(final_standings[i])\n",
    "        \n",
    "    \n",
    "        "
   ]
  },
  {
   "cell_type": "code",
   "execution_count": 370,
   "metadata": {
    "ExecuteTime": {
     "end_time": "2020-08-09T07:27:41.762223Z",
     "start_time": "2020-08-09T07:27:41.754369Z"
    }
   },
   "outputs": [],
   "source": [
    "def play(gameNo, wins, second_wins, head2head):\n",
    "    global total\n",
    "    if(gameNo > len(upcoming)- 1):\n",
    "        total += 1\n",
    "        final_wins = {k: v for k, v in sorted(wins.items(), key=lambda item: -item[1])}\n",
    "        fix_tie(final_wins, second_wins, head2head)\n",
    "        return\n",
    "    win1 = wins.copy();\n",
    "    win2 = wins.copy();\n",
    "    second_wins1 = second_wins.copy();\n",
    "    second_wins2 = second_wins.copy();\n",
    "    head2head1 = head2head.copy();\n",
    "    head2head2 = head2head.copy();\n",
    "    team1 = upcoming[gameNo][0];\n",
    "    team2 = upcoming[gameNo][1];\n",
    "    teamName = getname(team1, team2);\n",
    "    # team1 wins \n",
    "    win1[team1] += 1\n",
    "    second_wins1[team1] += 1\n",
    "    head2head1[(team1, team2)] += 1\n",
    "    head2head1[(team2, team1)] -= 1\n",
    "    play(gameNo + 1, win1, second_wins1, head2head1)\n",
    "    \n",
    "    # team2 wins\n",
    "    win2[team2] += 1\n",
    "    second_wins2[team2] += 1\n",
    "    head2head2[(team1, team2)] -= 1\n",
    "    head2head2[(team2, team1)] += 1\n",
    "    play(gameNo + 1, win2, second_wins2, head2head2)\n",
    "    \n",
    "    \n",
    "    "
   ]
  },
  {
   "cell_type": "code",
   "execution_count": 371,
   "metadata": {
    "ExecuteTime": {
     "end_time": "2020-08-09T07:27:42.831615Z",
     "start_time": "2020-08-09T07:27:42.826033Z"
    }
   },
   "outputs": [
    {
     "name": "stdout",
     "output_type": "stream",
     "text": [
      " 2 way tie  RGE MAD\n",
      "['RGE', 'MAD', 'G2', 'FNC', 'SK', 'XL', 'VIT', 'S04', 'OG', 'MSF']\n",
      " 2 way tie  RGE MAD\n",
      "['RGE', 'MAD', 'G2', 'SK', 'FNC', 'XL', 'VIT', 'S04', 'OG', 'MSF']\n",
      " 2 way tie  RGE MAD\n",
      "['RGE', 'MAD', 'G2', 'FNC', 'XL', 'SK', 'VIT', 'S04', 'OG', 'MSF']\n",
      " 2 way tie  RGE MAD\n",
      "['RGE', 'MAD', 'SK', 'G2', 'XL', 'FNC', 'VIT', 'S04', 'OG', 'MSF']\n",
      "['MAD', 'RGE', 'G2', 'FNC', 'SK', 'XL', 'VIT', 'S04', 'OG', 'MSF']\n",
      "['MAD', 'RGE', 'G2', 'SK', 'FNC', 'XL', 'VIT', 'S04', 'OG', 'MSF']\n",
      "['MAD', 'RGE', 'G2', 'FNC', 'XL', 'SK', 'VIT', 'S04', 'OG', 'MSF']\n",
      "['MAD', 'RGE', 'SK', 'G2', 'XL', 'FNC', 'VIT', 'S04', 'OG', 'MSF']\n",
      "['RGE', 'MAD', 'G2', 'FNC', 'SK', 'XL', 'S04', 'VIT', 'OG', 'MSF']\n",
      "['RGE', 'MAD', 'G2', 'SK', 'S04', 'FNC', 'XL', 'VIT', 'OG', 'MSF']\n",
      "['RGE', 'MAD', 'G2', 'FNC', 'XL', 'SK', 'S04', 'VIT', 'OG', 'MSF']\n",
      "['RGE', 'MAD', 'SK', 'G2', 'XL', 'S04', 'FNC', 'VIT', 'OG', 'MSF']\n",
      " 2 way tie  RGE MAD\n",
      "['RGE', 'MAD', 'G2', 'FNC', 'SK', 'XL', 'S04', 'VIT', 'OG', 'MSF']\n",
      " 2 way tie  RGE MAD\n",
      "['RGE', 'MAD', 'G2', 'SK', 'S04', 'FNC', 'XL', 'VIT', 'OG', 'MSF']\n",
      " 2 way tie  RGE MAD\n",
      "['RGE', 'MAD', 'G2', 'FNC', 'XL', 'SK', 'S04', 'VIT', 'OG', 'MSF']\n",
      " 2 way tie  RGE MAD\n",
      "['RGE', 'MAD', 'SK', 'G2', 'XL', 'S04', 'FNC', 'VIT', 'OG', 'MSF']\n",
      " 2 way tie  RGE MAD\n",
      "['RGE', 'MAD', 'G2', 'FNC', 'SK', 'XL', 'MSF', 'S04', 'VIT', 'OG']\n",
      " 2 way tie  RGE MAD\n",
      "['RGE', 'MAD', 'G2', 'SK', 'FNC', 'XL', 'MSF', 'S04', 'VIT', 'OG']\n",
      " 2 way tie  RGE MAD\n",
      "['RGE', 'MAD', 'G2', 'FNC', 'XL', 'SK', 'MSF', 'S04', 'VIT', 'OG']\n",
      " 2 way tie  RGE MAD\n",
      "['RGE', 'MAD', 'SK', 'G2', 'XL', 'FNC', 'MSF', 'S04', 'VIT', 'OG']\n",
      "['MAD', 'RGE', 'G2', 'FNC', 'SK', 'XL', 'MSF', 'VIT', 'S04', 'OG']\n",
      "['MAD', 'RGE', 'G2', 'SK', 'FNC', 'XL', 'MSF', 'VIT', 'S04', 'OG']\n",
      "['MAD', 'RGE', 'G2', 'FNC', 'XL', 'SK', 'MSF', 'VIT', 'S04', 'OG']\n",
      "['MAD', 'RGE', 'SK', 'G2', 'XL', 'FNC', 'MSF', 'VIT', 'S04', 'OG']\n",
      "['RGE', 'MAD', 'G2', 'FNC', 'SK', 'S04', 'XL', 'MSF', 'VIT', 'OG']\n",
      "['RGE', 'MAD', 'G2', 'SK', 'S04', 'FNC', 'XL', 'MSF', 'VIT', 'OG']\n",
      "['RGE', 'MAD', 'G2', 'FNC', 'XL', 'SK', 'S04', 'MSF', 'VIT', 'OG']\n",
      "['RGE', 'MAD', 'SK', 'G2', 'XL', 'S04', 'FNC', 'MSF', 'VIT', 'OG']\n",
      " 2 way tie  RGE MAD\n",
      "['RGE', 'MAD', 'G2', 'FNC', 'SK', 'S04', 'XL', 'MSF', 'VIT', 'OG']\n",
      " 2 way tie  RGE MAD\n",
      "['RGE', 'MAD', 'G2', 'SK', 'S04', 'FNC', 'XL', 'MSF', 'VIT', 'OG']\n",
      " 2 way tie  RGE MAD\n",
      "['RGE', 'MAD', 'G2', 'FNC', 'XL', 'SK', 'S04', 'MSF', 'VIT', 'OG']\n",
      " 2 way tie  RGE MAD\n",
      "['RGE', 'MAD', 'SK', 'G2', 'XL', 'S04', 'FNC', 'MSF', 'VIT', 'OG']\n"
     ]
    }
   ],
   "source": [
    "play(0, wins, second_wins, head2head)"
   ]
  },
  {
   "cell_type": "code",
   "execution_count": 372,
   "metadata": {
    "ExecuteTime": {
     "end_time": "2020-08-09T07:27:44.184061Z",
     "start_time": "2020-08-09T07:27:44.180760Z"
    }
   },
   "outputs": [
    {
     "data": {
      "text/plain": [
       "32"
      ]
     },
     "execution_count": 372,
     "metadata": {},
     "output_type": "execute_result"
    }
   ],
   "source": [
    "total"
   ]
  },
  {
   "cell_type": "code",
   "execution_count": 373,
   "metadata": {
    "ExecuteTime": {
     "end_time": "2020-08-09T07:27:45.247193Z",
     "start_time": "2020-08-09T07:27:45.242616Z"
    }
   },
   "outputs": [
    {
     "name": "stdout",
     "output_type": "stream",
     "text": [
      "G2 32 1.0\n",
      "SK 32 1.0\n",
      "RGE 32 1.0\n",
      "MAD 32 1.0\n",
      "FNC 28 0.875\n",
      "XL 26 0.8125\n",
      "S04 10 0.3125\n",
      "VIT 0 0.0\n",
      "OG 0 0.0\n",
      "MSF 0 0.0\n"
     ]
    }
   ],
   "source": [
    "score2  = {k: v for k, v in sorted(score.items(), key=lambda item: -item[1])}\n",
    "for team in score2:\n",
    "    print(team, score2[team], score2[team]/total)"
   ]
  },
  {
   "cell_type": "code",
   "execution_count": 375,
   "metadata": {
    "ExecuteTime": {
     "end_time": "2020-08-09T07:29:10.407223Z",
     "start_time": "2020-08-09T07:29:10.397779Z"
    }
   },
   "outputs": [
    {
     "name": "stdout",
     "output_type": "stream",
     "text": [
      "1 :\n",
      "G2 0.0  VIT 0.0  SK 0.0  RGE 0.75  FNC 0.0  MAD 0.75  OG 0.0  MSF 0.0  XL 0.0  S04 0.0  \n",
      "2 :\n",
      "G2 0.0  VIT 0.0  SK 0.0  RGE 0.75  FNC 0.0  MAD 0.75  OG 0.0  MSF 0.0  XL 0.0  S04 0.0  \n",
      "3 :\n",
      "G2 0.75  VIT 0.0  SK 0.25  RGE 0.0  FNC 0.0  MAD 0.0  OG 0.0  MSF 0.0  XL 0.0  S04 0.0  \n",
      "4 :\n",
      "G2 0.25  VIT 0.0  SK 0.25  RGE 0.0  FNC 0.5  MAD 0.0  OG 0.0  MSF 0.0  XL 0.0  S04 0.0  \n",
      "5 :\n",
      "G2 0.0  VIT 0.0  SK 0.25  RGE 0.0  FNC 0.125  MAD 0.0  OG 0.0  MSF 0.0  XL 0.5  S04 0.125  \n",
      "6 :\n",
      "G2 0.0  VIT 0.0  SK 0.25  RGE 0.0  FNC 0.25  MAD 0.0  OG 0.0  MSF 0.0  XL 0.3125  S04 0.1875  \n",
      "7 :\n",
      "G2 0.0  VIT 0.25  SK 0.0  RGE 0.0  FNC 0.125  MAD 0.0  OG 0.0  MSF 0.25  XL 0.1875  S04 0.1875  \n",
      "8 :\n",
      "G2 0.0  VIT 0.375  SK 0.0  RGE 0.0  FNC 0.0  MAD 0.0  OG 0.0  MSF 0.25  XL 0.0  S04 0.375  \n",
      "9 :\n",
      "G2 0.0  VIT 0.375  SK 0.0  RGE 0.0  FNC 0.0  MAD 0.0  OG 0.5  MSF 0.0  XL 0.0  S04 0.125  \n",
      "10 :\n",
      "G2 0.0  VIT 0.0  SK 0.0  RGE 0.0  FNC 0.0  MAD 0.0  OG 0.5  MSF 0.5  XL 0.0  S04 0.0  \n"
     ]
    }
   ],
   "source": [
    "teams = ['G2', 'VIT', 'SK', 'RGE', 'FNC', 'MAD', 'OG', 'MSF', 'XL', 'S04']\n",
    "for i in range(10):\n",
    "    print(str(i + 1) + \" :\")\n",
    "    for team in teams:\n",
    "        print(team, (1.0 * std[i].count(team))/total,\" \",  end='')\n",
    "    print()"
   ]
  },
  {
   "cell_type": "code",
   "execution_count": null,
   "metadata": {},
   "outputs": [],
   "source": []
  }
 ],
 "metadata": {
  "kernelspec": {
   "display_name": "Python 3",
   "language": "python",
   "name": "python3"
  },
  "language_info": {
   "codemirror_mode": {
    "name": "ipython",
    "version": 3
   },
   "file_extension": ".py",
   "mimetype": "text/x-python",
   "name": "python",
   "nbconvert_exporter": "python",
   "pygments_lexer": "ipython3",
   "version": "3.7.7"
  }
 },
 "nbformat": 4,
 "nbformat_minor": 4
}
